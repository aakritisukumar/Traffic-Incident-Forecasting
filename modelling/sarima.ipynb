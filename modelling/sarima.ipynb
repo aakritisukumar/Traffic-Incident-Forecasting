{
 "cells": [
  {
   "cell_type": "code",
   "execution_count": 30,
   "id": "3017473f",
   "metadata": {},
   "outputs": [],
   "source": [
    "# 1) import your preprocessing function\n",
    "from preprocessing import load_and_preprocess_data\n",
    "\n",
    "# 2) load & preprocess\n",
    "#    this returns (monthly_data, annual_data)\n",
    "df, monthly_data, annual_data = load_and_preprocess_data(path = \"../data/dataset.csv\")\n",
    "\n",
    "# 3) work off the monthly_data DataFrame\n",
    "df = monthly_data.copy()\n"
   ]
  },
  {
   "cell_type": "code",
   "execution_count": 31,
   "id": "c13a8f32",
   "metadata": {},
   "outputs": [],
   "source": [
    "import numpy as np\n",
    "\n",
    "df['WERT_log'] = np.log1p(df['WERT'])   # log1p handles zeros gracefully\n"
   ]
  },
  {
   "cell_type": "code",
   "execution_count": 32,
   "id": "8c414313",
   "metadata": {},
   "outputs": [
    {
     "name": "stdout",
     "output_type": "stream",
     "text": [
      "ADF Statistic: -0.501687922518181\n",
      "p-value: 0.8916866886816828\n"
     ]
    }
   ],
   "source": [
    "from statsmodels.tsa.stattools import adfuller\n",
    "result = adfuller(df['WERT_log'].dropna())\n",
    "print(f'ADF Statistic: {result[0]}')\n",
    "print(f'p-value: {result[1]}')\n"
   ]
  },
  {
   "cell_type": "code",
   "execution_count": 33,
   "id": "4153f1e2",
   "metadata": {},
   "outputs": [
    {
     "name": "stdout",
     "output_type": "stream",
     "text": [
      "Differenced ADF Statistic: -5.067996287177161\n",
      "Differenced p-value: 1.6252088690216988e-05\n"
     ]
    }
   ],
   "source": [
    "df['WERT_log_diff'] = df['WERT_log'].diff().dropna()\n",
    "result_diff = adfuller(df['WERT_log_diff'].dropna())\n",
    "print(f'Differenced ADF Statistic: {result_diff[0]}')\n",
    "print(f'Differenced p-value: {result_diff[1]}')\n"
   ]
  },
  {
   "cell_type": "code",
   "execution_count": 34,
   "id": "0f5f1912",
   "metadata": {},
   "outputs": [
    {
     "name": "stdout",
     "output_type": "stream",
     "text": [
      "Best ARIMA(0, 1, 2) x (1, 0, 1, 12) - AIC:108.25568631169956\n"
     ]
    }
   ],
   "source": [
    "#find the optimal SARIMA parameters using a grid search approach to minimize the AIC (Akaike Information Criterion)\n",
    "\n",
    "import itertools\n",
    "import warnings\n",
    "from statsmodels.tsa.statespace.sarimax import SARIMAX\n",
    "\n",
    "# Define p, d, q and seasonal components\n",
    "p = d = q = range(0, 3)  # Test values 0, 1, 2\n",
    "P = D = Q = range(0, 2)  # Seasonal terms\n",
    "S = [12]  \n",
    "\n",
    "pdq = list(itertools.product(p, d, q))\n",
    "seasonal_pdq = list(itertools.product(P, D, Q, S))\n",
    "\n",
    "warnings.filterwarnings(\"ignore\")\n",
    "\n",
    "best_aic = float(\"inf\")\n",
    "best_params = None\n",
    "\n",
    "for param in pdq:\n",
    "    for seasonal_param in seasonal_pdq:\n",
    "        try:\n",
    "            model = SARIMAX(df['WERT_log'],\n",
    "                            order=param,\n",
    "                            seasonal_order=seasonal_param,\n",
    "                            enforce_stationarity=False,\n",
    "                            enforce_invertibility=False)\n",
    "            results = model.fit(disp=False)\n",
    "            \n",
    "            if results.aic < best_aic:\n",
    "                best_aic = results.aic\n",
    "                best_params = (param, seasonal_param)\n",
    "                \n",
    "        except:\n",
    "            continue\n",
    "\n",
    "print(f'Best ARIMA{best_params[0]} x {best_params[1]} - AIC:{best_aic}')\n",
    "\n"
   ]
  },
  {
   "cell_type": "code",
   "execution_count": null,
   "id": "8ed90e82",
   "metadata": {},
   "outputs": [],
   "source": []
  },
  {
   "cell_type": "code",
   "execution_count": 35,
   "id": "afaa0871",
   "metadata": {},
   "outputs": [
    {
     "name": "stdout",
     "output_type": "stream",
     "text": [
      "Best SARIMA(3, 1, 3) x (1, 0, 1, 12)12 - AIC:105.66588443909608\n"
     ]
    }
   ],
   "source": [
    "# Expand ranges for more robust tuning\n",
    "p = d = q = range(0, 4)   # now testing 0 to 3\n",
    "P = D = Q = range(0, 2)\n",
    "S = [12]  # monthly seasonality\n",
    "\n",
    "pdq = list(itertools.product(p, d, q))\n",
    "seasonal_pdq = list(itertools.product(P, D, Q, S))\n",
    "\n",
    "best_aic = float(\"inf\")\n",
    "best_params = None\n",
    "\n",
    "for param in pdq:\n",
    "    for seasonal_param in seasonal_pdq:\n",
    "        try:\n",
    "            model = SARIMAX(df['WERT_log'],\n",
    "                            order=param,\n",
    "                            seasonal_order=seasonal_param,\n",
    "                            enforce_stationarity=False,\n",
    "                            enforce_invertibility=False)\n",
    "            results = model.fit(disp=False)\n",
    "            \n",
    "            if results.aic < best_aic:\n",
    "                best_aic = results.aic\n",
    "                best_params = (param, seasonal_param)\n",
    "        \n",
    "        except:\n",
    "            continue\n",
    "\n",
    "print(f'Best SARIMA{best_params[0]} x {best_params[1]}12 - AIC:{best_aic}')\n"
   ]
  },
  {
   "cell_type": "code",
   "execution_count": 36,
   "id": "c404001f",
   "metadata": {},
   "outputs": [
    {
     "name": "stdout",
     "output_type": "stream",
     "text": [
      "                                      SARIMAX Results                                       \n",
      "============================================================================================\n",
      "Dep. Variable:                             WERT_log   No. Observations:                  300\n",
      "Model:             SARIMAX(3, 1, 3)x(1, 0, [1], 12)   Log Likelihood                 -43.833\n",
      "Date:                              Wed, 09 Jul 2025   AIC                            105.666\n",
      "Time:                                      15:18:54   BIC                            138.475\n",
      "Sample:                                  01-01-2000   HQIC                           118.821\n",
      "                                       - 12-01-2024                                         \n",
      "Covariance Type:                                opg                                         \n",
      "==============================================================================\n",
      "                 coef    std err          z      P>|z|      [0.025      0.975]\n",
      "------------------------------------------------------------------------------\n",
      "ar.L1          0.6595      0.128      5.134      0.000       0.408       0.911\n",
      "ar.L2         -0.9676      0.042    -22.959      0.000      -1.050      -0.885\n",
      "ar.L3          0.5967      0.119      4.994      0.000       0.362       0.831\n",
      "ma.L1         -1.3204      0.154     -8.589      0.000      -1.622      -1.019\n",
      "ma.L2          1.1067      0.051     21.863      0.000       1.007       1.206\n",
      "ma.L3         -1.1762      0.158     -7.441      0.000      -1.486      -0.866\n",
      "ar.S.L12       0.8869      0.063     14.046      0.000       0.763       1.011\n",
      "ma.S.L12      -0.7347      0.103     -7.101      0.000      -0.937      -0.532\n",
      "sigma2         0.0524      0.013      3.903      0.000       0.026       0.079\n",
      "===================================================================================\n",
      "Ljung-Box (L1) (Q):                   0.00   Jarque-Bera (JB):             11850.62\n",
      "Prob(Q):                              0.98   Prob(JB):                         0.00\n",
      "Heteroskedasticity (H):               3.52   Skew:                             3.23\n",
      "Prob(H) (two-sided):                  0.00   Kurtosis:                        34.04\n",
      "===================================================================================\n",
      "\n",
      "Warnings:\n",
      "[1] Covariance matrix calculated using the outer product of gradients (complex-step).\n"
     ]
    }
   ],
   "source": [
    "best_order = best_params[0]\n",
    "best_seasonal_order = best_params[1]\n",
    "\n",
    "model = SARIMAX(df['WERT_log'],\n",
    "                order=best_order,\n",
    "                seasonal_order=best_seasonal_order,\n",
    "                enforce_stationarity=False,\n",
    "                enforce_invertibility=False)\n",
    "\n",
    "results = model.fit()\n",
    "\n",
    "# Summary\n",
    "print(results.summary())\n"
   ]
  }
 ],
 "metadata": {
  "kernelspec": {
   "display_name": "Python 3",
   "language": "python",
   "name": "python3"
  },
  "language_info": {
   "codemirror_mode": {
    "name": "ipython",
    "version": 3
   },
   "file_extension": ".py",
   "mimetype": "text/x-python",
   "name": "python",
   "nbconvert_exporter": "python",
   "pygments_lexer": "ipython3",
   "version": "3.12.8"
  }
 },
 "nbformat": 4,
 "nbformat_minor": 5
}
